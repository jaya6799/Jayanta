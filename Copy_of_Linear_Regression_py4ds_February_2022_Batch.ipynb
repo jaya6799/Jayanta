{
  "nbformat": 4,
  "nbformat_minor": 0,
  "metadata": {
    "colab": {
      "name": "Copy of Linear Regression  py4ds - February 2022 Batch.ipynb",
      "provenance": [],
      "collapsed_sections": []
    },
    "kernelspec": {
      "name": "python3",
      "display_name": "Python 3"
    },
    "language_info": {
      "name": "python"
    }
  },
  "cells": [
    {
      "cell_type": "code",
      "execution_count": null,
      "metadata": {
        "colab": {
          "base_uri": "https://localhost:8080/"
        },
        "id": "2zSQR7qENzF6",
        "outputId": "b5f38152-d330-41f3-efb7-fb8561d7b115"
      },
      "outputs": [
        {
          "output_type": "stream",
          "name": "stdout",
          "text": [
            "--2022-03-01 02:03:40--  https://raw.githubusercontent.com/nachikethmurthy/Source-Code-Dataset-for-Machine-Learning-using-Python/main/Data/Boston.csv\n",
            "Resolving raw.githubusercontent.com (raw.githubusercontent.com)... 185.199.108.133, 185.199.109.133, 185.199.110.133, ...\n",
            "Connecting to raw.githubusercontent.com (raw.githubusercontent.com)|185.199.108.133|:443... connected.\n",
            "HTTP request sent, awaiting response... 200 OK\n",
            "Length: 37658 (37K) [text/plain]\n",
            "Saving to: ‘Boston.csv’\n",
            "\n",
            "\rBoston.csv            0%[                    ]       0  --.-KB/s               \rBoston.csv          100%[===================>]  36.78K  --.-KB/s    in 0.003s  \n",
            "\n",
            "2022-03-01 02:03:40 (10.9 MB/s) - ‘Boston.csv’ saved [37658/37658]\n",
            "\n"
          ]
        }
      ],
      "source": [
        "!wget https://raw.githubusercontent.com/nachikethmurthy/Source-Code-Dataset-for-Machine-Learning-using-Python/main/Data/Boston.csv"
      ]
    },
    {
      "cell_type": "code",
      "source": [
        "import numpy as np\n",
        "import pandas as pd\n",
        "import matplotlib.pyplot as plt"
      ],
      "metadata": {
        "id": "QorvXj-_OAdv"
      },
      "execution_count": null,
      "outputs": []
    },
    {
      "cell_type": "code",
      "source": [
        "df = pd.read_csv(\"Boston.csv\")\n",
        "df.head()"
      ],
      "metadata": {
        "colab": {
          "base_uri": "https://localhost:8080/",
          "height": 206
        },
        "id": "tV6DHvM_OKWn",
        "outputId": "42efb226-ef9a-4088-915e-df8edebf96aa"
      },
      "execution_count": null,
      "outputs": [
        {
          "output_type": "execute_result",
          "data": {
            "text/html": [
              "\n",
              "  <div id=\"df-e5c2686e-185b-437c-af8d-ced97f3d14f7\">\n",
              "    <div class=\"colab-df-container\">\n",
              "      <div>\n",
              "<style scoped>\n",
              "    .dataframe tbody tr th:only-of-type {\n",
              "        vertical-align: middle;\n",
              "    }\n",
              "\n",
              "    .dataframe tbody tr th {\n",
              "        vertical-align: top;\n",
              "    }\n",
              "\n",
              "    .dataframe thead th {\n",
              "        text-align: right;\n",
              "    }\n",
              "</style>\n",
              "<table border=\"1\" class=\"dataframe\">\n",
              "  <thead>\n",
              "    <tr style=\"text-align: right;\">\n",
              "      <th></th>\n",
              "      <th>Unnamed: 0</th>\n",
              "      <th>crim</th>\n",
              "      <th>zn</th>\n",
              "      <th>indus</th>\n",
              "      <th>chas</th>\n",
              "      <th>nox</th>\n",
              "      <th>rm</th>\n",
              "      <th>age</th>\n",
              "      <th>dis</th>\n",
              "      <th>rad</th>\n",
              "      <th>tax</th>\n",
              "      <th>ptratio</th>\n",
              "      <th>black</th>\n",
              "      <th>lstat</th>\n",
              "      <th>medv</th>\n",
              "    </tr>\n",
              "  </thead>\n",
              "  <tbody>\n",
              "    <tr>\n",
              "      <th>0</th>\n",
              "      <td>1</td>\n",
              "      <td>0.00632</td>\n",
              "      <td>18.0</td>\n",
              "      <td>2.31</td>\n",
              "      <td>0</td>\n",
              "      <td>0.538</td>\n",
              "      <td>6.575</td>\n",
              "      <td>65.2</td>\n",
              "      <td>4.0900</td>\n",
              "      <td>1</td>\n",
              "      <td>296</td>\n",
              "      <td>15.3</td>\n",
              "      <td>396.90</td>\n",
              "      <td>4.98</td>\n",
              "      <td>24.0</td>\n",
              "    </tr>\n",
              "    <tr>\n",
              "      <th>1</th>\n",
              "      <td>2</td>\n",
              "      <td>0.02731</td>\n",
              "      <td>0.0</td>\n",
              "      <td>7.07</td>\n",
              "      <td>0</td>\n",
              "      <td>0.469</td>\n",
              "      <td>6.421</td>\n",
              "      <td>78.9</td>\n",
              "      <td>4.9671</td>\n",
              "      <td>2</td>\n",
              "      <td>242</td>\n",
              "      <td>17.8</td>\n",
              "      <td>396.90</td>\n",
              "      <td>9.14</td>\n",
              "      <td>21.6</td>\n",
              "    </tr>\n",
              "    <tr>\n",
              "      <th>2</th>\n",
              "      <td>3</td>\n",
              "      <td>0.02729</td>\n",
              "      <td>0.0</td>\n",
              "      <td>7.07</td>\n",
              "      <td>0</td>\n",
              "      <td>0.469</td>\n",
              "      <td>7.185</td>\n",
              "      <td>61.1</td>\n",
              "      <td>4.9671</td>\n",
              "      <td>2</td>\n",
              "      <td>242</td>\n",
              "      <td>17.8</td>\n",
              "      <td>392.83</td>\n",
              "      <td>4.03</td>\n",
              "      <td>34.7</td>\n",
              "    </tr>\n",
              "    <tr>\n",
              "      <th>3</th>\n",
              "      <td>4</td>\n",
              "      <td>0.03237</td>\n",
              "      <td>0.0</td>\n",
              "      <td>2.18</td>\n",
              "      <td>0</td>\n",
              "      <td>0.458</td>\n",
              "      <td>6.998</td>\n",
              "      <td>45.8</td>\n",
              "      <td>6.0622</td>\n",
              "      <td>3</td>\n",
              "      <td>222</td>\n",
              "      <td>18.7</td>\n",
              "      <td>394.63</td>\n",
              "      <td>2.94</td>\n",
              "      <td>33.4</td>\n",
              "    </tr>\n",
              "    <tr>\n",
              "      <th>4</th>\n",
              "      <td>5</td>\n",
              "      <td>0.06905</td>\n",
              "      <td>0.0</td>\n",
              "      <td>2.18</td>\n",
              "      <td>0</td>\n",
              "      <td>0.458</td>\n",
              "      <td>7.147</td>\n",
              "      <td>54.2</td>\n",
              "      <td>6.0622</td>\n",
              "      <td>3</td>\n",
              "      <td>222</td>\n",
              "      <td>18.7</td>\n",
              "      <td>396.90</td>\n",
              "      <td>5.33</td>\n",
              "      <td>36.2</td>\n",
              "    </tr>\n",
              "  </tbody>\n",
              "</table>\n",
              "</div>\n",
              "      <button class=\"colab-df-convert\" onclick=\"convertToInteractive('df-e5c2686e-185b-437c-af8d-ced97f3d14f7')\"\n",
              "              title=\"Convert this dataframe to an interactive table.\"\n",
              "              style=\"display:none;\">\n",
              "        \n",
              "  <svg xmlns=\"http://www.w3.org/2000/svg\" height=\"24px\"viewBox=\"0 0 24 24\"\n",
              "       width=\"24px\">\n",
              "    <path d=\"M0 0h24v24H0V0z\" fill=\"none\"/>\n",
              "    <path d=\"M18.56 5.44l.94 2.06.94-2.06 2.06-.94-2.06-.94-.94-2.06-.94 2.06-2.06.94zm-11 1L8.5 8.5l.94-2.06 2.06-.94-2.06-.94L8.5 2.5l-.94 2.06-2.06.94zm10 10l.94 2.06.94-2.06 2.06-.94-2.06-.94-.94-2.06-.94 2.06-2.06.94z\"/><path d=\"M17.41 7.96l-1.37-1.37c-.4-.4-.92-.59-1.43-.59-.52 0-1.04.2-1.43.59L10.3 9.45l-7.72 7.72c-.78.78-.78 2.05 0 2.83L4 21.41c.39.39.9.59 1.41.59.51 0 1.02-.2 1.41-.59l7.78-7.78 2.81-2.81c.8-.78.8-2.07 0-2.86zM5.41 20L4 18.59l7.72-7.72 1.47 1.35L5.41 20z\"/>\n",
              "  </svg>\n",
              "      </button>\n",
              "      \n",
              "  <style>\n",
              "    .colab-df-container {\n",
              "      display:flex;\n",
              "      flex-wrap:wrap;\n",
              "      gap: 12px;\n",
              "    }\n",
              "\n",
              "    .colab-df-convert {\n",
              "      background-color: #E8F0FE;\n",
              "      border: none;\n",
              "      border-radius: 50%;\n",
              "      cursor: pointer;\n",
              "      display: none;\n",
              "      fill: #1967D2;\n",
              "      height: 32px;\n",
              "      padding: 0 0 0 0;\n",
              "      width: 32px;\n",
              "    }\n",
              "\n",
              "    .colab-df-convert:hover {\n",
              "      background-color: #E2EBFA;\n",
              "      box-shadow: 0px 1px 2px rgba(60, 64, 67, 0.3), 0px 1px 3px 1px rgba(60, 64, 67, 0.15);\n",
              "      fill: #174EA6;\n",
              "    }\n",
              "\n",
              "    [theme=dark] .colab-df-convert {\n",
              "      background-color: #3B4455;\n",
              "      fill: #D2E3FC;\n",
              "    }\n",
              "\n",
              "    [theme=dark] .colab-df-convert:hover {\n",
              "      background-color: #434B5C;\n",
              "      box-shadow: 0px 1px 3px 1px rgba(0, 0, 0, 0.15);\n",
              "      filter: drop-shadow(0px 1px 2px rgba(0, 0, 0, 0.3));\n",
              "      fill: #FFFFFF;\n",
              "    }\n",
              "  </style>\n",
              "\n",
              "      <script>\n",
              "        const buttonEl =\n",
              "          document.querySelector('#df-e5c2686e-185b-437c-af8d-ced97f3d14f7 button.colab-df-convert');\n",
              "        buttonEl.style.display =\n",
              "          google.colab.kernel.accessAllowed ? 'block' : 'none';\n",
              "\n",
              "        async function convertToInteractive(key) {\n",
              "          const element = document.querySelector('#df-e5c2686e-185b-437c-af8d-ced97f3d14f7');\n",
              "          const dataTable =\n",
              "            await google.colab.kernel.invokeFunction('convertToInteractive',\n",
              "                                                     [key], {});\n",
              "          if (!dataTable) return;\n",
              "\n",
              "          const docLinkHtml = 'Like what you see? Visit the ' +\n",
              "            '<a target=\"_blank\" href=https://colab.research.google.com/notebooks/data_table.ipynb>data table notebook</a>'\n",
              "            + ' to learn more about interactive tables.';\n",
              "          element.innerHTML = '';\n",
              "          dataTable['output_type'] = 'display_data';\n",
              "          await google.colab.output.renderOutput(dataTable, element);\n",
              "          const docLink = document.createElement('div');\n",
              "          docLink.innerHTML = docLinkHtml;\n",
              "          element.appendChild(docLink);\n",
              "        }\n",
              "      </script>\n",
              "    </div>\n",
              "  </div>\n",
              "  "
            ],
            "text/plain": [
              "   Unnamed: 0     crim    zn  indus  chas  ...  tax  ptratio   black  lstat  medv\n",
              "0           1  0.00632  18.0   2.31     0  ...  296     15.3  396.90   4.98  24.0\n",
              "1           2  0.02731   0.0   7.07     0  ...  242     17.8  396.90   9.14  21.6\n",
              "2           3  0.02729   0.0   7.07     0  ...  242     17.8  392.83   4.03  34.7\n",
              "3           4  0.03237   0.0   2.18     0  ...  222     18.7  394.63   2.94  33.4\n",
              "4           5  0.06905   0.0   2.18     0  ...  222     18.7  396.90   5.33  36.2\n",
              "\n",
              "[5 rows x 15 columns]"
            ]
          },
          "metadata": {},
          "execution_count": 3
        }
      ]
    },
    {
      "cell_type": "code",
      "source": [
        "# Data Cleaning\n",
        "df.drop(columns=[\"Unnamed: 0\"], inplace=True)\n",
        "df.head()"
      ],
      "metadata": {
        "colab": {
          "base_uri": "https://localhost:8080/",
          "height": 206
        },
        "id": "_jRxfE0NOQkx",
        "outputId": "22de520c-07ce-4c62-8934-22e59515d6ad"
      },
      "execution_count": null,
      "outputs": [
        {
          "output_type": "execute_result",
          "data": {
            "text/html": [
              "\n",
              "  <div id=\"df-f8ec15ba-1245-454f-b7b4-124a8f02d8c7\">\n",
              "    <div class=\"colab-df-container\">\n",
              "      <div>\n",
              "<style scoped>\n",
              "    .dataframe tbody tr th:only-of-type {\n",
              "        vertical-align: middle;\n",
              "    }\n",
              "\n",
              "    .dataframe tbody tr th {\n",
              "        vertical-align: top;\n",
              "    }\n",
              "\n",
              "    .dataframe thead th {\n",
              "        text-align: right;\n",
              "    }\n",
              "</style>\n",
              "<table border=\"1\" class=\"dataframe\">\n",
              "  <thead>\n",
              "    <tr style=\"text-align: right;\">\n",
              "      <th></th>\n",
              "      <th>crim</th>\n",
              "      <th>zn</th>\n",
              "      <th>indus</th>\n",
              "      <th>chas</th>\n",
              "      <th>nox</th>\n",
              "      <th>rm</th>\n",
              "      <th>age</th>\n",
              "      <th>dis</th>\n",
              "      <th>rad</th>\n",
              "      <th>tax</th>\n",
              "      <th>ptratio</th>\n",
              "      <th>black</th>\n",
              "      <th>lstat</th>\n",
              "      <th>medv</th>\n",
              "    </tr>\n",
              "  </thead>\n",
              "  <tbody>\n",
              "    <tr>\n",
              "      <th>0</th>\n",
              "      <td>0.00632</td>\n",
              "      <td>18.0</td>\n",
              "      <td>2.31</td>\n",
              "      <td>0</td>\n",
              "      <td>0.538</td>\n",
              "      <td>6.575</td>\n",
              "      <td>65.2</td>\n",
              "      <td>4.0900</td>\n",
              "      <td>1</td>\n",
              "      <td>296</td>\n",
              "      <td>15.3</td>\n",
              "      <td>396.90</td>\n",
              "      <td>4.98</td>\n",
              "      <td>24.0</td>\n",
              "    </tr>\n",
              "    <tr>\n",
              "      <th>1</th>\n",
              "      <td>0.02731</td>\n",
              "      <td>0.0</td>\n",
              "      <td>7.07</td>\n",
              "      <td>0</td>\n",
              "      <td>0.469</td>\n",
              "      <td>6.421</td>\n",
              "      <td>78.9</td>\n",
              "      <td>4.9671</td>\n",
              "      <td>2</td>\n",
              "      <td>242</td>\n",
              "      <td>17.8</td>\n",
              "      <td>396.90</td>\n",
              "      <td>9.14</td>\n",
              "      <td>21.6</td>\n",
              "    </tr>\n",
              "    <tr>\n",
              "      <th>2</th>\n",
              "      <td>0.02729</td>\n",
              "      <td>0.0</td>\n",
              "      <td>7.07</td>\n",
              "      <td>0</td>\n",
              "      <td>0.469</td>\n",
              "      <td>7.185</td>\n",
              "      <td>61.1</td>\n",
              "      <td>4.9671</td>\n",
              "      <td>2</td>\n",
              "      <td>242</td>\n",
              "      <td>17.8</td>\n",
              "      <td>392.83</td>\n",
              "      <td>4.03</td>\n",
              "      <td>34.7</td>\n",
              "    </tr>\n",
              "    <tr>\n",
              "      <th>3</th>\n",
              "      <td>0.03237</td>\n",
              "      <td>0.0</td>\n",
              "      <td>2.18</td>\n",
              "      <td>0</td>\n",
              "      <td>0.458</td>\n",
              "      <td>6.998</td>\n",
              "      <td>45.8</td>\n",
              "      <td>6.0622</td>\n",
              "      <td>3</td>\n",
              "      <td>222</td>\n",
              "      <td>18.7</td>\n",
              "      <td>394.63</td>\n",
              "      <td>2.94</td>\n",
              "      <td>33.4</td>\n",
              "    </tr>\n",
              "    <tr>\n",
              "      <th>4</th>\n",
              "      <td>0.06905</td>\n",
              "      <td>0.0</td>\n",
              "      <td>2.18</td>\n",
              "      <td>0</td>\n",
              "      <td>0.458</td>\n",
              "      <td>7.147</td>\n",
              "      <td>54.2</td>\n",
              "      <td>6.0622</td>\n",
              "      <td>3</td>\n",
              "      <td>222</td>\n",
              "      <td>18.7</td>\n",
              "      <td>396.90</td>\n",
              "      <td>5.33</td>\n",
              "      <td>36.2</td>\n",
              "    </tr>\n",
              "  </tbody>\n",
              "</table>\n",
              "</div>\n",
              "      <button class=\"colab-df-convert\" onclick=\"convertToInteractive('df-f8ec15ba-1245-454f-b7b4-124a8f02d8c7')\"\n",
              "              title=\"Convert this dataframe to an interactive table.\"\n",
              "              style=\"display:none;\">\n",
              "        \n",
              "  <svg xmlns=\"http://www.w3.org/2000/svg\" height=\"24px\"viewBox=\"0 0 24 24\"\n",
              "       width=\"24px\">\n",
              "    <path d=\"M0 0h24v24H0V0z\" fill=\"none\"/>\n",
              "    <path d=\"M18.56 5.44l.94 2.06.94-2.06 2.06-.94-2.06-.94-.94-2.06-.94 2.06-2.06.94zm-11 1L8.5 8.5l.94-2.06 2.06-.94-2.06-.94L8.5 2.5l-.94 2.06-2.06.94zm10 10l.94 2.06.94-2.06 2.06-.94-2.06-.94-.94-2.06-.94 2.06-2.06.94z\"/><path d=\"M17.41 7.96l-1.37-1.37c-.4-.4-.92-.59-1.43-.59-.52 0-1.04.2-1.43.59L10.3 9.45l-7.72 7.72c-.78.78-.78 2.05 0 2.83L4 21.41c.39.39.9.59 1.41.59.51 0 1.02-.2 1.41-.59l7.78-7.78 2.81-2.81c.8-.78.8-2.07 0-2.86zM5.41 20L4 18.59l7.72-7.72 1.47 1.35L5.41 20z\"/>\n",
              "  </svg>\n",
              "      </button>\n",
              "      \n",
              "  <style>\n",
              "    .colab-df-container {\n",
              "      display:flex;\n",
              "      flex-wrap:wrap;\n",
              "      gap: 12px;\n",
              "    }\n",
              "\n",
              "    .colab-df-convert {\n",
              "      background-color: #E8F0FE;\n",
              "      border: none;\n",
              "      border-radius: 50%;\n",
              "      cursor: pointer;\n",
              "      display: none;\n",
              "      fill: #1967D2;\n",
              "      height: 32px;\n",
              "      padding: 0 0 0 0;\n",
              "      width: 32px;\n",
              "    }\n",
              "\n",
              "    .colab-df-convert:hover {\n",
              "      background-color: #E2EBFA;\n",
              "      box-shadow: 0px 1px 2px rgba(60, 64, 67, 0.3), 0px 1px 3px 1px rgba(60, 64, 67, 0.15);\n",
              "      fill: #174EA6;\n",
              "    }\n",
              "\n",
              "    [theme=dark] .colab-df-convert {\n",
              "      background-color: #3B4455;\n",
              "      fill: #D2E3FC;\n",
              "    }\n",
              "\n",
              "    [theme=dark] .colab-df-convert:hover {\n",
              "      background-color: #434B5C;\n",
              "      box-shadow: 0px 1px 3px 1px rgba(0, 0, 0, 0.15);\n",
              "      filter: drop-shadow(0px 1px 2px rgba(0, 0, 0, 0.3));\n",
              "      fill: #FFFFFF;\n",
              "    }\n",
              "  </style>\n",
              "\n",
              "      <script>\n",
              "        const buttonEl =\n",
              "          document.querySelector('#df-f8ec15ba-1245-454f-b7b4-124a8f02d8c7 button.colab-df-convert');\n",
              "        buttonEl.style.display =\n",
              "          google.colab.kernel.accessAllowed ? 'block' : 'none';\n",
              "\n",
              "        async function convertToInteractive(key) {\n",
              "          const element = document.querySelector('#df-f8ec15ba-1245-454f-b7b4-124a8f02d8c7');\n",
              "          const dataTable =\n",
              "            await google.colab.kernel.invokeFunction('convertToInteractive',\n",
              "                                                     [key], {});\n",
              "          if (!dataTable) return;\n",
              "\n",
              "          const docLinkHtml = 'Like what you see? Visit the ' +\n",
              "            '<a target=\"_blank\" href=https://colab.research.google.com/notebooks/data_table.ipynb>data table notebook</a>'\n",
              "            + ' to learn more about interactive tables.';\n",
              "          element.innerHTML = '';\n",
              "          dataTable['output_type'] = 'display_data';\n",
              "          await google.colab.output.renderOutput(dataTable, element);\n",
              "          const docLink = document.createElement('div');\n",
              "          docLink.innerHTML = docLinkHtml;\n",
              "          element.appendChild(docLink);\n",
              "        }\n",
              "      </script>\n",
              "    </div>\n",
              "  </div>\n",
              "  "
            ],
            "text/plain": [
              "      crim    zn  indus  chas    nox  ...  tax  ptratio   black  lstat  medv\n",
              "0  0.00632  18.0   2.31     0  0.538  ...  296     15.3  396.90   4.98  24.0\n",
              "1  0.02731   0.0   7.07     0  0.469  ...  242     17.8  396.90   9.14  21.6\n",
              "2  0.02729   0.0   7.07     0  0.469  ...  242     17.8  392.83   4.03  34.7\n",
              "3  0.03237   0.0   2.18     0  0.458  ...  222     18.7  394.63   2.94  33.4\n",
              "4  0.06905   0.0   2.18     0  0.458  ...  222     18.7  396.90   5.33  36.2\n",
              "\n",
              "[5 rows x 14 columns]"
            ]
          },
          "metadata": {},
          "execution_count": 4
        }
      ]
    },
    {
      "cell_type": "code",
      "source": [
        "df.corr()"
      ],
      "metadata": {
        "colab": {
          "base_uri": "https://localhost:8080/",
          "height": 532
        },
        "id": "GWTfV4UGOv7V",
        "outputId": "2eac8001-c0a3-46a2-d711-9b6f212ba0f4"
      },
      "execution_count": null,
      "outputs": [
        {
          "output_type": "execute_result",
          "data": {
            "text/html": [
              "\n",
              "  <div id=\"df-20d71271-7302-463c-8d78-faf8d5f4f8bf\">\n",
              "    <div class=\"colab-df-container\">\n",
              "      <div>\n",
              "<style scoped>\n",
              "    .dataframe tbody tr th:only-of-type {\n",
              "        vertical-align: middle;\n",
              "    }\n",
              "\n",
              "    .dataframe tbody tr th {\n",
              "        vertical-align: top;\n",
              "    }\n",
              "\n",
              "    .dataframe thead th {\n",
              "        text-align: right;\n",
              "    }\n",
              "</style>\n",
              "<table border=\"1\" class=\"dataframe\">\n",
              "  <thead>\n",
              "    <tr style=\"text-align: right;\">\n",
              "      <th></th>\n",
              "      <th>crim</th>\n",
              "      <th>zn</th>\n",
              "      <th>indus</th>\n",
              "      <th>chas</th>\n",
              "      <th>nox</th>\n",
              "      <th>rm</th>\n",
              "      <th>age</th>\n",
              "      <th>dis</th>\n",
              "      <th>rad</th>\n",
              "      <th>tax</th>\n",
              "      <th>ptratio</th>\n",
              "      <th>black</th>\n",
              "      <th>lstat</th>\n",
              "      <th>medv</th>\n",
              "    </tr>\n",
              "  </thead>\n",
              "  <tbody>\n",
              "    <tr>\n",
              "      <th>crim</th>\n",
              "      <td>1.000000</td>\n",
              "      <td>-0.200469</td>\n",
              "      <td>0.406583</td>\n",
              "      <td>-0.055892</td>\n",
              "      <td>0.420972</td>\n",
              "      <td>-0.219247</td>\n",
              "      <td>0.352734</td>\n",
              "      <td>-0.379670</td>\n",
              "      <td>0.625505</td>\n",
              "      <td>0.582764</td>\n",
              "      <td>0.289946</td>\n",
              "      <td>-0.385064</td>\n",
              "      <td>0.455621</td>\n",
              "      <td>-0.388305</td>\n",
              "    </tr>\n",
              "    <tr>\n",
              "      <th>zn</th>\n",
              "      <td>-0.200469</td>\n",
              "      <td>1.000000</td>\n",
              "      <td>-0.533828</td>\n",
              "      <td>-0.042697</td>\n",
              "      <td>-0.516604</td>\n",
              "      <td>0.311991</td>\n",
              "      <td>-0.569537</td>\n",
              "      <td>0.664408</td>\n",
              "      <td>-0.311948</td>\n",
              "      <td>-0.314563</td>\n",
              "      <td>-0.391679</td>\n",
              "      <td>0.175520</td>\n",
              "      <td>-0.412995</td>\n",
              "      <td>0.360445</td>\n",
              "    </tr>\n",
              "    <tr>\n",
              "      <th>indus</th>\n",
              "      <td>0.406583</td>\n",
              "      <td>-0.533828</td>\n",
              "      <td>1.000000</td>\n",
              "      <td>0.062938</td>\n",
              "      <td>0.763651</td>\n",
              "      <td>-0.391676</td>\n",
              "      <td>0.644779</td>\n",
              "      <td>-0.708027</td>\n",
              "      <td>0.595129</td>\n",
              "      <td>0.720760</td>\n",
              "      <td>0.383248</td>\n",
              "      <td>-0.356977</td>\n",
              "      <td>0.603800</td>\n",
              "      <td>-0.483725</td>\n",
              "    </tr>\n",
              "    <tr>\n",
              "      <th>chas</th>\n",
              "      <td>-0.055892</td>\n",
              "      <td>-0.042697</td>\n",
              "      <td>0.062938</td>\n",
              "      <td>1.000000</td>\n",
              "      <td>0.091203</td>\n",
              "      <td>0.091251</td>\n",
              "      <td>0.086518</td>\n",
              "      <td>-0.099176</td>\n",
              "      <td>-0.007368</td>\n",
              "      <td>-0.035587</td>\n",
              "      <td>-0.121515</td>\n",
              "      <td>0.048788</td>\n",
              "      <td>-0.053929</td>\n",
              "      <td>0.175260</td>\n",
              "    </tr>\n",
              "    <tr>\n",
              "      <th>nox</th>\n",
              "      <td>0.420972</td>\n",
              "      <td>-0.516604</td>\n",
              "      <td>0.763651</td>\n",
              "      <td>0.091203</td>\n",
              "      <td>1.000000</td>\n",
              "      <td>-0.302188</td>\n",
              "      <td>0.731470</td>\n",
              "      <td>-0.769230</td>\n",
              "      <td>0.611441</td>\n",
              "      <td>0.668023</td>\n",
              "      <td>0.188933</td>\n",
              "      <td>-0.380051</td>\n",
              "      <td>0.590879</td>\n",
              "      <td>-0.427321</td>\n",
              "    </tr>\n",
              "    <tr>\n",
              "      <th>rm</th>\n",
              "      <td>-0.219247</td>\n",
              "      <td>0.311991</td>\n",
              "      <td>-0.391676</td>\n",
              "      <td>0.091251</td>\n",
              "      <td>-0.302188</td>\n",
              "      <td>1.000000</td>\n",
              "      <td>-0.240265</td>\n",
              "      <td>0.205246</td>\n",
              "      <td>-0.209847</td>\n",
              "      <td>-0.292048</td>\n",
              "      <td>-0.355501</td>\n",
              "      <td>0.128069</td>\n",
              "      <td>-0.613808</td>\n",
              "      <td>0.695360</td>\n",
              "    </tr>\n",
              "    <tr>\n",
              "      <th>age</th>\n",
              "      <td>0.352734</td>\n",
              "      <td>-0.569537</td>\n",
              "      <td>0.644779</td>\n",
              "      <td>0.086518</td>\n",
              "      <td>0.731470</td>\n",
              "      <td>-0.240265</td>\n",
              "      <td>1.000000</td>\n",
              "      <td>-0.747881</td>\n",
              "      <td>0.456022</td>\n",
              "      <td>0.506456</td>\n",
              "      <td>0.261515</td>\n",
              "      <td>-0.273534</td>\n",
              "      <td>0.602339</td>\n",
              "      <td>-0.376955</td>\n",
              "    </tr>\n",
              "    <tr>\n",
              "      <th>dis</th>\n",
              "      <td>-0.379670</td>\n",
              "      <td>0.664408</td>\n",
              "      <td>-0.708027</td>\n",
              "      <td>-0.099176</td>\n",
              "      <td>-0.769230</td>\n",
              "      <td>0.205246</td>\n",
              "      <td>-0.747881</td>\n",
              "      <td>1.000000</td>\n",
              "      <td>-0.494588</td>\n",
              "      <td>-0.534432</td>\n",
              "      <td>-0.232471</td>\n",
              "      <td>0.291512</td>\n",
              "      <td>-0.496996</td>\n",
              "      <td>0.249929</td>\n",
              "    </tr>\n",
              "    <tr>\n",
              "      <th>rad</th>\n",
              "      <td>0.625505</td>\n",
              "      <td>-0.311948</td>\n",
              "      <td>0.595129</td>\n",
              "      <td>-0.007368</td>\n",
              "      <td>0.611441</td>\n",
              "      <td>-0.209847</td>\n",
              "      <td>0.456022</td>\n",
              "      <td>-0.494588</td>\n",
              "      <td>1.000000</td>\n",
              "      <td>0.910228</td>\n",
              "      <td>0.464741</td>\n",
              "      <td>-0.444413</td>\n",
              "      <td>0.488676</td>\n",
              "      <td>-0.381626</td>\n",
              "    </tr>\n",
              "    <tr>\n",
              "      <th>tax</th>\n",
              "      <td>0.582764</td>\n",
              "      <td>-0.314563</td>\n",
              "      <td>0.720760</td>\n",
              "      <td>-0.035587</td>\n",
              "      <td>0.668023</td>\n",
              "      <td>-0.292048</td>\n",
              "      <td>0.506456</td>\n",
              "      <td>-0.534432</td>\n",
              "      <td>0.910228</td>\n",
              "      <td>1.000000</td>\n",
              "      <td>0.460853</td>\n",
              "      <td>-0.441808</td>\n",
              "      <td>0.543993</td>\n",
              "      <td>-0.468536</td>\n",
              "    </tr>\n",
              "    <tr>\n",
              "      <th>ptratio</th>\n",
              "      <td>0.289946</td>\n",
              "      <td>-0.391679</td>\n",
              "      <td>0.383248</td>\n",
              "      <td>-0.121515</td>\n",
              "      <td>0.188933</td>\n",
              "      <td>-0.355501</td>\n",
              "      <td>0.261515</td>\n",
              "      <td>-0.232471</td>\n",
              "      <td>0.464741</td>\n",
              "      <td>0.460853</td>\n",
              "      <td>1.000000</td>\n",
              "      <td>-0.177383</td>\n",
              "      <td>0.374044</td>\n",
              "      <td>-0.507787</td>\n",
              "    </tr>\n",
              "    <tr>\n",
              "      <th>black</th>\n",
              "      <td>-0.385064</td>\n",
              "      <td>0.175520</td>\n",
              "      <td>-0.356977</td>\n",
              "      <td>0.048788</td>\n",
              "      <td>-0.380051</td>\n",
              "      <td>0.128069</td>\n",
              "      <td>-0.273534</td>\n",
              "      <td>0.291512</td>\n",
              "      <td>-0.444413</td>\n",
              "      <td>-0.441808</td>\n",
              "      <td>-0.177383</td>\n",
              "      <td>1.000000</td>\n",
              "      <td>-0.366087</td>\n",
              "      <td>0.333461</td>\n",
              "    </tr>\n",
              "    <tr>\n",
              "      <th>lstat</th>\n",
              "      <td>0.455621</td>\n",
              "      <td>-0.412995</td>\n",
              "      <td>0.603800</td>\n",
              "      <td>-0.053929</td>\n",
              "      <td>0.590879</td>\n",
              "      <td>-0.613808</td>\n",
              "      <td>0.602339</td>\n",
              "      <td>-0.496996</td>\n",
              "      <td>0.488676</td>\n",
              "      <td>0.543993</td>\n",
              "      <td>0.374044</td>\n",
              "      <td>-0.366087</td>\n",
              "      <td>1.000000</td>\n",
              "      <td>-0.737663</td>\n",
              "    </tr>\n",
              "    <tr>\n",
              "      <th>medv</th>\n",
              "      <td>-0.388305</td>\n",
              "      <td>0.360445</td>\n",
              "      <td>-0.483725</td>\n",
              "      <td>0.175260</td>\n",
              "      <td>-0.427321</td>\n",
              "      <td>0.695360</td>\n",
              "      <td>-0.376955</td>\n",
              "      <td>0.249929</td>\n",
              "      <td>-0.381626</td>\n",
              "      <td>-0.468536</td>\n",
              "      <td>-0.507787</td>\n",
              "      <td>0.333461</td>\n",
              "      <td>-0.737663</td>\n",
              "      <td>1.000000</td>\n",
              "    </tr>\n",
              "  </tbody>\n",
              "</table>\n",
              "</div>\n",
              "      <button class=\"colab-df-convert\" onclick=\"convertToInteractive('df-20d71271-7302-463c-8d78-faf8d5f4f8bf')\"\n",
              "              title=\"Convert this dataframe to an interactive table.\"\n",
              "              style=\"display:none;\">\n",
              "        \n",
              "  <svg xmlns=\"http://www.w3.org/2000/svg\" height=\"24px\"viewBox=\"0 0 24 24\"\n",
              "       width=\"24px\">\n",
              "    <path d=\"M0 0h24v24H0V0z\" fill=\"none\"/>\n",
              "    <path d=\"M18.56 5.44l.94 2.06.94-2.06 2.06-.94-2.06-.94-.94-2.06-.94 2.06-2.06.94zm-11 1L8.5 8.5l.94-2.06 2.06-.94-2.06-.94L8.5 2.5l-.94 2.06-2.06.94zm10 10l.94 2.06.94-2.06 2.06-.94-2.06-.94-.94-2.06-.94 2.06-2.06.94z\"/><path d=\"M17.41 7.96l-1.37-1.37c-.4-.4-.92-.59-1.43-.59-.52 0-1.04.2-1.43.59L10.3 9.45l-7.72 7.72c-.78.78-.78 2.05 0 2.83L4 21.41c.39.39.9.59 1.41.59.51 0 1.02-.2 1.41-.59l7.78-7.78 2.81-2.81c.8-.78.8-2.07 0-2.86zM5.41 20L4 18.59l7.72-7.72 1.47 1.35L5.41 20z\"/>\n",
              "  </svg>\n",
              "      </button>\n",
              "      \n",
              "  <style>\n",
              "    .colab-df-container {\n",
              "      display:flex;\n",
              "      flex-wrap:wrap;\n",
              "      gap: 12px;\n",
              "    }\n",
              "\n",
              "    .colab-df-convert {\n",
              "      background-color: #E8F0FE;\n",
              "      border: none;\n",
              "      border-radius: 50%;\n",
              "      cursor: pointer;\n",
              "      display: none;\n",
              "      fill: #1967D2;\n",
              "      height: 32px;\n",
              "      padding: 0 0 0 0;\n",
              "      width: 32px;\n",
              "    }\n",
              "\n",
              "    .colab-df-convert:hover {\n",
              "      background-color: #E2EBFA;\n",
              "      box-shadow: 0px 1px 2px rgba(60, 64, 67, 0.3), 0px 1px 3px 1px rgba(60, 64, 67, 0.15);\n",
              "      fill: #174EA6;\n",
              "    }\n",
              "\n",
              "    [theme=dark] .colab-df-convert {\n",
              "      background-color: #3B4455;\n",
              "      fill: #D2E3FC;\n",
              "    }\n",
              "\n",
              "    [theme=dark] .colab-df-convert:hover {\n",
              "      background-color: #434B5C;\n",
              "      box-shadow: 0px 1px 3px 1px rgba(0, 0, 0, 0.15);\n",
              "      filter: drop-shadow(0px 1px 2px rgba(0, 0, 0, 0.3));\n",
              "      fill: #FFFFFF;\n",
              "    }\n",
              "  </style>\n",
              "\n",
              "      <script>\n",
              "        const buttonEl =\n",
              "          document.querySelector('#df-20d71271-7302-463c-8d78-faf8d5f4f8bf button.colab-df-convert');\n",
              "        buttonEl.style.display =\n",
              "          google.colab.kernel.accessAllowed ? 'block' : 'none';\n",
              "\n",
              "        async function convertToInteractive(key) {\n",
              "          const element = document.querySelector('#df-20d71271-7302-463c-8d78-faf8d5f4f8bf');\n",
              "          const dataTable =\n",
              "            await google.colab.kernel.invokeFunction('convertToInteractive',\n",
              "                                                     [key], {});\n",
              "          if (!dataTable) return;\n",
              "\n",
              "          const docLinkHtml = 'Like what you see? Visit the ' +\n",
              "            '<a target=\"_blank\" href=https://colab.research.google.com/notebooks/data_table.ipynb>data table notebook</a>'\n",
              "            + ' to learn more about interactive tables.';\n",
              "          element.innerHTML = '';\n",
              "          dataTable['output_type'] = 'display_data';\n",
              "          await google.colab.output.renderOutput(dataTable, element);\n",
              "          const docLink = document.createElement('div');\n",
              "          docLink.innerHTML = docLinkHtml;\n",
              "          element.appendChild(docLink);\n",
              "        }\n",
              "      </script>\n",
              "    </div>\n",
              "  </div>\n",
              "  "
            ],
            "text/plain": [
              "             crim        zn     indus  ...     black     lstat      medv\n",
              "crim     1.000000 -0.200469  0.406583  ... -0.385064  0.455621 -0.388305\n",
              "zn      -0.200469  1.000000 -0.533828  ...  0.175520 -0.412995  0.360445\n",
              "indus    0.406583 -0.533828  1.000000  ... -0.356977  0.603800 -0.483725\n",
              "chas    -0.055892 -0.042697  0.062938  ...  0.048788 -0.053929  0.175260\n",
              "nox      0.420972 -0.516604  0.763651  ... -0.380051  0.590879 -0.427321\n",
              "rm      -0.219247  0.311991 -0.391676  ...  0.128069 -0.613808  0.695360\n",
              "age      0.352734 -0.569537  0.644779  ... -0.273534  0.602339 -0.376955\n",
              "dis     -0.379670  0.664408 -0.708027  ...  0.291512 -0.496996  0.249929\n",
              "rad      0.625505 -0.311948  0.595129  ... -0.444413  0.488676 -0.381626\n",
              "tax      0.582764 -0.314563  0.720760  ... -0.441808  0.543993 -0.468536\n",
              "ptratio  0.289946 -0.391679  0.383248  ... -0.177383  0.374044 -0.507787\n",
              "black   -0.385064  0.175520 -0.356977  ...  1.000000 -0.366087  0.333461\n",
              "lstat    0.455621 -0.412995  0.603800  ... -0.366087  1.000000 -0.737663\n",
              "medv    -0.388305  0.360445 -0.483725  ...  0.333461 -0.737663  1.000000\n",
              "\n",
              "[14 rows x 14 columns]"
            ]
          },
          "metadata": {},
          "execution_count": 5
        }
      ]
    },
    {
      "cell_type": "code",
      "source": [
        "import seaborn as sns\n",
        "plt.figure(figsize=(10,6))\n",
        "sns.heatmap(df.corr(), annot = True)\n",
        "plt.show()"
      ],
      "metadata": {
        "colab": {
          "base_uri": "https://localhost:8080/",
          "height": 378
        },
        "id": "HT-trkx0O5ZM",
        "outputId": "c152489d-1ffe-44c8-a61b-e45a1c111e2c"
      },
      "execution_count": null,
      "outputs": [
        {
          "output_type": "display_data",
          "data": {
            "image/png": "[encoded data removed]",
            "text/plain": [
              "<Figure size 720x432 with 2 Axes>"
            ]
          },
          "metadata": {
            "needs_background": "light"
          }
        }
      ]
    },
    {
      "cell_type": "markdown",
      "source": [
        "# Split the Dataset into 2 parts"
      ],
      "metadata": {
        "id": "4EyhqjIIQryh"
      }
    },
    {
      "cell_type": "code",
      "source": [
        "from sklearn.model_selection import train_test_split"
      ],
      "metadata": {
        "id": "3EetCyE5P3DO"
      },
      "execution_count": null,
      "outputs": []
    },
    {
      "cell_type": "code",
      "source": [
        "X = df.drop(columns=[\"medv\"])\n",
        "y = df[\"medv\"]"
      ],
      "metadata": {
        "id": "L8aswu9mQ72o"
      },
      "execution_count": null,
      "outputs": []
    },
    {
      "cell_type": "code",
      "source": [
        "X.shape"
      ],
      "metadata": {
        "colab": {
          "base_uri": "https://localhost:8080/"
        },
        "id": "wnl5OOCyRPwt",
        "outputId": "89955f0d-2de9-4d4c-e935-0148d9134e51"
      },
      "execution_count": null,
      "outputs": [
        {
          "output_type": "execute_result",
          "data": {
            "text/plain": [
              "(506, 13)"
            ]
          },
          "metadata": {},
          "execution_count": 10
        }
      ]
    },
    {
      "cell_type": "code",
      "source": [
        "y.shape"
      ],
      "metadata": {
        "colab": {
          "base_uri": "https://localhost:8080/"
        },
        "id": "xp7R1UvaRQUs",
        "outputId": "6aed50f7-97c7-49d9-8b42-0efa559578f5"
      },
      "execution_count": null,
      "outputs": [
        {
          "output_type": "execute_result",
          "data": {
            "text/plain": [
              "(506,)"
            ]
          },
          "metadata": {},
          "execution_count": 11
        }
      ]
    },
    {
      "cell_type": "code",
      "source": [
        "X_train,X_test,y_train,y_test = train_test_split(X,y,test_size = 0.3, random_state = 1)"
      ],
      "metadata": {
        "id": "5hkyn-V0RQxY"
      },
      "execution_count": null,
      "outputs": []
    },
    {
      "cell_type": "markdown",
      "source": [
        ""
      ],
      "metadata": {
        "id": "VK3olGC1SiaY"
      }
    },
    {
      "cell_type": "code",
      "source": [
        "X_train.shape, X_test.shape"
      ],
      "metadata": {
        "colab": {
          "base_uri": "https://localhost:8080/"
        },
        "id": "CboKzxidRq-k",
        "outputId": "8c1459ce-16d7-4c69-eadb-66ee96504ac4"
      },
      "execution_count": null,
      "outputs": [
        {
          "output_type": "execute_result",
          "data": {
            "text/plain": [
              "((354, 13), (152, 13))"
            ]
          },
          "metadata": {},
          "execution_count": 24
        }
      ]
    },
    {
      "cell_type": "code",
      "source": [
        "X_train.head()"
      ],
      "metadata": {
        "colab": {
          "base_uri": "https://localhost:8080/",
          "height": 206
        },
        "id": "JEO2Lf56R1k5",
        "outputId": "29154ca8-36a3-482b-c0b8-3a9e584f5f67"
      },
      "execution_count": null,
      "outputs": [
        {
          "output_type": "execute_result",
          "data": {
            "text/html": [
              "\n",
              "  <div id=\"df-06f916d5-5220-4c47-8e6a-9e684df06de5\">\n",
              "    <div class=\"colab-df-container\">\n",
              "      <div>\n",
              "<style scoped>\n",
              "    .dataframe tbody tr th:only-of-type {\n",
              "        vertical-align: middle;\n",
              "    }\n",
              "\n",
              "    .dataframe tbody tr th {\n",
              "        vertical-align: top;\n",
              "    }\n",
              "\n",
              "    .dataframe thead th {\n",
              "        text-align: right;\n",
              "    }\n",
              "</style>\n",
              "<table border=\"1\" class=\"dataframe\">\n",
              "  <thead>\n",
              "    <tr style=\"text-align: right;\">\n",
              "      <th></th>\n",
              "      <th>crim</th>\n",
              "      <th>zn</th>\n",
              "      <th>indus</th>\n",
              "      <th>chas</th>\n",
              "      <th>nox</th>\n",
              "      <th>rm</th>\n",
              "      <th>age</th>\n",
              "      <th>dis</th>\n",
              "      <th>rad</th>\n",
              "      <th>tax</th>\n",
              "      <th>ptratio</th>\n",
              "      <th>black</th>\n",
              "      <th>lstat</th>\n",
              "    </tr>\n",
              "  </thead>\n",
              "  <tbody>\n",
              "    <tr>\n",
              "      <th>13</th>\n",
              "      <td>0.62976</td>\n",
              "      <td>0.0</td>\n",
              "      <td>8.14</td>\n",
              "      <td>0</td>\n",
              "      <td>0.538</td>\n",
              "      <td>5.949</td>\n",
              "      <td>61.8</td>\n",
              "      <td>4.7075</td>\n",
              "      <td>4</td>\n",
              "      <td>307</td>\n",
              "      <td>21.0</td>\n",
              "      <td>396.90</td>\n",
              "      <td>8.26</td>\n",
              "    </tr>\n",
              "    <tr>\n",
              "      <th>61</th>\n",
              "      <td>0.17171</td>\n",
              "      <td>25.0</td>\n",
              "      <td>5.13</td>\n",
              "      <td>0</td>\n",
              "      <td>0.453</td>\n",
              "      <td>5.966</td>\n",
              "      <td>93.4</td>\n",
              "      <td>6.8185</td>\n",
              "      <td>8</td>\n",
              "      <td>284</td>\n",
              "      <td>19.7</td>\n",
              "      <td>378.08</td>\n",
              "      <td>14.44</td>\n",
              "    </tr>\n",
              "    <tr>\n",
              "      <th>377</th>\n",
              "      <td>9.82349</td>\n",
              "      <td>0.0</td>\n",
              "      <td>18.10</td>\n",
              "      <td>0</td>\n",
              "      <td>0.671</td>\n",
              "      <td>6.794</td>\n",
              "      <td>98.8</td>\n",
              "      <td>1.3580</td>\n",
              "      <td>24</td>\n",
              "      <td>666</td>\n",
              "      <td>20.2</td>\n",
              "      <td>396.90</td>\n",
              "      <td>21.24</td>\n",
              "    </tr>\n",
              "    <tr>\n",
              "      <th>39</th>\n",
              "      <td>0.02763</td>\n",
              "      <td>75.0</td>\n",
              "      <td>2.95</td>\n",
              "      <td>0</td>\n",
              "      <td>0.428</td>\n",
              "      <td>6.595</td>\n",
              "      <td>21.8</td>\n",
              "      <td>5.4011</td>\n",
              "      <td>3</td>\n",
              "      <td>252</td>\n",
              "      <td>18.3</td>\n",
              "      <td>395.63</td>\n",
              "      <td>4.32</td>\n",
              "    </tr>\n",
              "    <tr>\n",
              "      <th>365</th>\n",
              "      <td>4.55587</td>\n",
              "      <td>0.0</td>\n",
              "      <td>18.10</td>\n",
              "      <td>0</td>\n",
              "      <td>0.718</td>\n",
              "      <td>3.561</td>\n",
              "      <td>87.9</td>\n",
              "      <td>1.6132</td>\n",
              "      <td>24</td>\n",
              "      <td>666</td>\n",
              "      <td>20.2</td>\n",
              "      <td>354.70</td>\n",
              "      <td>7.12</td>\n",
              "    </tr>\n",
              "  </tbody>\n",
              "</table>\n",
              "</div>\n",
              "      <button class=\"colab-df-convert\" onclick=\"convertToInteractive('df-06f916d5-5220-4c47-8e6a-9e684df06de5')\"\n",
              "              title=\"Convert this dataframe to an interactive table.\"\n",
              "              style=\"display:none;\">\n",
              "        \n",
              "  <svg xmlns=\"http://www.w3.org/2000/svg\" height=\"24px\"viewBox=\"0 0 24 24\"\n",
              "       width=\"24px\">\n",
              "    <path d=\"M0 0h24v24H0V0z\" fill=\"none\"/>\n",
              "    <path d=\"M18.56 5.44l.94 2.06.94-2.06 2.06-.94-2.06-.94-.94-2.06-.94 2.06-2.06.94zm-11 1L8.5 8.5l.94-2.06 2.06-.94-2.06-.94L8.5 2.5l-.94 2.06-2.06.94zm10 10l.94 2.06.94-2.06 2.06-.94-2.06-.94-.94-2.06-.94 2.06-2.06.94z\"/><path d=\"M17.41 7.96l-1.37-1.37c-.4-.4-.92-.59-1.43-.59-.52 0-1.04.2-1.43.59L10.3 9.45l-7.72 7.72c-.78.78-.78 2.05 0 2.83L4 21.41c.39.39.9.59 1.41.59.51 0 1.02-.2 1.41-.59l7.78-7.78 2.81-2.81c.8-.78.8-2.07 0-2.86zM5.41 20L4 18.59l7.72-7.72 1.47 1.35L5.41 20z\"/>\n",
              "  </svg>\n",
              "      </button>\n",
              "      \n",
              "  <style>\n",
              "    .colab-df-container {\n",
              "      display:flex;\n",
              "      flex-wrap:wrap;\n",
              "      gap: 12px;\n",
              "    }\n",
              "\n",
              "    .colab-df-convert {\n",
              "      background-color: #E8F0FE;\n",
              "      border: none;\n",
              "      border-radius: 50%;\n",
              "      cursor: pointer;\n",
              "      display: none;\n",
              "      fill: #1967D2;\n",
              "      height: 32px;\n",
              "      padding: 0 0 0 0;\n",
              "      width: 32px;\n",
              "    }\n",
              "\n",
              "    .colab-df-convert:hover {\n",
              "      background-color: #E2EBFA;\n",
              "      box-shadow: 0px 1px 2px rgba(60, 64, 67, 0.3), 0px 1px 3px 1px rgba(60, 64, 67, 0.15);\n",
              "      fill: #174EA6;\n",
              "    }\n",
              "\n",
              "    [theme=dark] .colab-df-convert {\n",
              "      background-color: #3B4455;\n",
              "      fill: #D2E3FC;\n",
              "    }\n",
              "\n",
              "    [theme=dark] .colab-df-convert:hover {\n",
              "      background-color: #434B5C;\n",
              "      box-shadow: 0px 1px 3px 1px rgba(0, 0, 0, 0.15);\n",
              "      filter: drop-shadow(0px 1px 2px rgba(0, 0, 0, 0.3));\n",
              "      fill: #FFFFFF;\n",
              "    }\n",
              "  </style>\n",
              "\n",
              "      <script>\n",
              "        const buttonEl =\n",
              "          document.querySelector('#df-06f916d5-5220-4c47-8e6a-9e684df06de5 button.colab-df-convert');\n",
              "        buttonEl.style.display =\n",
              "          google.colab.kernel.accessAllowed ? 'block' : 'none';\n",
              "\n",
              "        async function convertToInteractive(key) {\n",
              "          const element = document.querySelector('#df-06f916d5-5220-4c47-8e6a-9e684df06de5');\n",
              "          const dataTable =\n",
              "            await google.colab.kernel.invokeFunction('convertToInteractive',\n",
              "                                                     [key], {});\n",
              "          if (!dataTable) return;\n",
              "\n",
              "          const docLinkHtml = 'Like what you see? Visit the ' +\n",
              "            '<a target=\"_blank\" href=https://colab.research.google.com/notebooks/data_table.ipynb>data table notebook</a>'\n",
              "            + ' to learn more about interactive tables.';\n",
              "          element.innerHTML = '';\n",
              "          dataTable['output_type'] = 'display_data';\n",
              "          await google.colab.output.renderOutput(dataTable, element);\n",
              "          const docLink = document.createElement('div');\n",
              "          docLink.innerHTML = docLinkHtml;\n",
              "          element.appendChild(docLink);\n",
              "        }\n",
              "      </script>\n",
              "    </div>\n",
              "  </div>\n",
              "  "
            ],
            "text/plain": [
              "        crim    zn  indus  chas    nox  ...  rad  tax  ptratio   black  lstat\n",
              "13   0.62976   0.0   8.14     0  0.538  ...    4  307     21.0  396.90   8.26\n",
              "61   0.17171  25.0   5.13     0  0.453  ...    8  284     19.7  378.08  14.44\n",
              "377  9.82349   0.0  18.10     0  0.671  ...   24  666     20.2  396.90  21.24\n",
              "39   0.02763  75.0   2.95     0  0.428  ...    3  252     18.3  395.63   4.32\n",
              "365  4.55587   0.0  18.10     0  0.718  ...   24  666     20.2  354.70   7.12\n",
              "\n",
              "[5 rows x 13 columns]"
            ]
          },
          "metadata": {},
          "execution_count": 25
        }
      ]
    },
    {
      "cell_type": "markdown",
      "source": [
        "# Linear Regression"
      ],
      "metadata": {
        "id": "u_wrGqvtSrdX"
      }
    },
    {
      "cell_type": "markdown",
      "source": [
        "![image.png](data:image/png;base64,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)"
      ],
      "metadata": {
        "id": "NaVWrvVATVpl"
      }
    },
    {
      "cell_type": "code",
      "source": [
        "from sklearn.linear_model import LinearRegression\n",
        "lr = LinearRegression()"
      ],
      "metadata": {
        "id": "Gh1KtYQ4SBzk"
      },
      "execution_count": null,
      "outputs": []
    },
    {
      "cell_type": "code",
      "source": [
        "lr.fit(X_train,y_train)"
      ],
      "metadata": {
        "colab": {
          "base_uri": "https://localhost:8080/"
        },
        "id": "fmDX5mM-S0G2",
        "outputId": "faa19423-8c61-4ba3-e4b8-cf5b3d039c2e"
      },
      "execution_count": null,
      "outputs": [
        {
          "output_type": "execute_result",
          "data": {
            "text/plain": [
              "LinearRegression()"
            ]
          },
          "metadata": {},
          "execution_count": 27
        }
      ]
    },
    {
      "cell_type": "code",
      "source": [
        "X_train.shape"
      ],
      "metadata": {
        "colab": {
          "base_uri": "https://localhost:8080/"
        },
        "id": "eJmy6v10S4nl",
        "outputId": "b806ce17-a212-4e4e-a2bb-5eb4f699b598"
      },
      "execution_count": null,
      "outputs": [
        {
          "output_type": "execute_result",
          "data": {
            "text/plain": [
              "(354, 13)"
            ]
          },
          "metadata": {},
          "execution_count": 28
        }
      ]
    },
    {
      "cell_type": "code",
      "source": [
        "# theta_0,theta_1,theta_2,theta_3,...theta_13\n",
        "lr.intercept_ # theta_0"
      ],
      "metadata": {
        "colab": {
          "base_uri": "https://localhost:8080/"
        },
        "id": "llEbYn7GS7eG",
        "outputId": "f1cf86fc-7670-4962-ab8b-5c96922185e2"
      },
      "execution_count": null,
      "outputs": [
        {
          "output_type": "execute_result",
          "data": {
            "text/plain": [
              "46.39649387182328"
            ]
          },
          "metadata": {},
          "execution_count": 29
        }
      ]
    },
    {
      "cell_type": "code",
      "source": [
        "lr.coef_ # theta_1, theta_2, ... theta_13"
      ],
      "metadata": {
        "colab": {
          "base_uri": "https://localhost:8080/"
        },
        "id": "BTVzF7ByTFku",
        "outputId": "214b48f5-6339-4f1a-971f-91000aa0d4d7"
      },
      "execution_count": null,
      "outputs": [
        {
          "output_type": "execute_result",
          "data": {
            "text/plain": [
              "array([-9.85424717e-02,  6.07841138e-02,  5.91715401e-02,  2.43955988e+00,\n",
              "       -2.14699650e+01,  2.79581385e+00,  3.57459778e-03, -1.51627218e+00,\n",
              "        3.07541745e-01, -1.12800166e-02, -1.00546640e+00,  6.45018446e-03,\n",
              "       -5.68834539e-01])"
            ]
          },
          "metadata": {},
          "execution_count": 30
        }
      ]
    },
    {
      "cell_type": "code",
      "source": [
        "result = lr.predict(X_test)\n",
        "result # predicted output"
      ],
      "metadata": {
        "colab": {
          "base_uri": "https://localhost:8080/"
        },
        "id": "dpq5lTICTJpv",
        "outputId": "ff0b4809-0cd3-498b-b162-38296a7f4ca6"
      },
      "execution_count": null,
      "outputs": [
        {
          "output_type": "execute_result",
          "data": {
            "text/plain": [
              "array([32.3914647 , 27.94401279, 17.83762764, 21.66941388, 18.93639614,\n",
              "       20.01995795, 32.63414961, 17.86179976, 24.73211676, 26.77346826,\n",
              "       27.26138023, 28.63243014, 21.16103038, 27.15098589, 23.33198614,\n",
              "       21.02894005, 17.11819755, 37.52455938, 30.69864427,  8.46104486,\n",
              "       20.83966032, 16.26732451, 25.05030307, 24.8069032 , 31.6789299 ,\n",
              "       10.98989363, 13.54111562, 16.54697099, 35.86699683, 14.69589266,\n",
              "       21.05655107, 13.90301353, 43.01321262, 17.80335305, 21.68817023,\n",
              "       20.45077825, 17.38095983, 26.81334904, 10.08706217, 19.96174586,\n",
              "       24.1983249 , 21.00202622, 29.38682967, 16.33215467, 19.37439646,\n",
              "       14.45525235, 39.52670798, 18.18535021, 26.38536303, 20.41420863,\n",
              "       25.08511581, 24.40208165, 24.87902769, 26.97887956,  4.93921657,\n",
              "       24.0001365 , 10.66711602, 26.98494775, 16.63507993, 35.31652989,\n",
              "       19.49249915, 27.37577863, 16.53965715, 19.09746715, 11.06765336,\n",
              "       32.03445261, 36.15847648, 21.53547868, 24.96434626, 25.50601154,\n",
              "       23.41203509,  7.20513615, 16.8659937 , 20.06269471, 20.61979368,\n",
              "       21.97238475, 34.25908683, 27.9998298 , 24.95261644, 34.74201458,\n",
              "       18.63786454, 23.95355085, 34.50655345, 13.15979729, 20.53691051,\n",
              "       30.29844955, 16.932953  , 24.29285934, 19.11800155, 16.9848188 ,\n",
              "       26.80165303, 40.90027245, 14.43790215, 23.20589688, 15.39439519,\n",
              "       21.77332361, 22.85660249, 29.45718412, 36.54373379, 20.36577747,\n",
              "       18.01790611, 17.41615519, 25.23381893, 21.98069747,  8.3160445 ,\n",
              "       21.49942727, 16.565317  , 33.22680671, 24.39944797, 24.99055027,\n",
              "       38.37532568, 28.82033178, 14.76287071, 34.72063358, 35.40686066,\n",
              "       32.93299015, 20.95996646, 16.74324182, 34.54769634, 38.9463732 ,\n",
              "       21.47971843, 15.54203787, 27.46719043, 18.62729405, 27.3819011 ,\n",
              "       21.13549164, 26.24403323, 22.22010257, 23.34295812, 28.29923408,\n",
              "       20.53788412, 23.94639233, 29.8421088 , 10.55075792, 27.02280253,\n",
              "       32.41641579, 13.94180705, 13.62057726, 33.00870341, 14.2836798 ,\n",
              "       17.70899424, 16.30194776, 17.14377392, 28.71467061, 34.07548297,\n",
              "       20.31288796, 24.55801246, 17.32995936, 28.3602341 , 20.79422791,\n",
              "       33.6981572 , 13.51882716])"
            ]
          },
          "metadata": {},
          "execution_count": 31
        }
      ]
    },
    {
      "cell_type": "code",
      "source": [
        "from sklearn.metrics import mean_absolute_error"
      ],
      "metadata": {
        "id": "-5ZGU0ejUGLl"
      },
      "execution_count": null,
      "outputs": []
    },
    {
      "cell_type": "code",
      "source": [
        "mean_absolute_error(y_test,result) "
      ],
      "metadata": {
        "colab": {
          "base_uri": "https://localhost:8080/"
        },
        "id": "lheLwVuuUV-e",
        "outputId": "e0115b35-392f-4da8-cc6b-8662e883dd51"
      },
      "execution_count": null,
      "outputs": [
        {
          "output_type": "execute_result",
          "data": {
            "text/plain": [
              "3.344665503598753"
            ]
          },
          "metadata": {},
          "execution_count": 35
        }
      ]
    },
    {
      "cell_type": "code",
      "source": [
        "from sklearn.metrics import mean_squared_error,r2_score"
      ],
      "metadata": {
        "id": "GpjoFQ57UcHL"
      },
      "execution_count": null,
      "outputs": []
    },
    {
      "cell_type": "code",
      "source": [
        "mean_squared_error(y_test,result) # This is preferred for Regression"
      ],
      "metadata": {
        "colab": {
          "base_uri": "https://localhost:8080/"
        },
        "id": "fNIvhbkyUyO8",
        "outputId": "c995fb5c-226d-44f4-8d14-20042aae6ba4"
      },
      "execution_count": null,
      "outputs": [
        {
          "output_type": "execute_result",
          "data": {
            "text/plain": [
              "19.831323672062922"
            ]
          },
          "metadata": {},
          "execution_count": 37
        }
      ]
    },
    {
      "cell_type": "markdown",
      "source": [
        "## R2 Score:\n",
        "In statistics, the coefficient of determination, denoted R2 or r2 and pronounced \"R squared\", is the proportion of the variation in the dependent variable (Output) that is predictable from the independent variable(s) (Inputs)"
      ],
      "metadata": {
        "id": "OGgZP_VVVi5b"
      }
    },
    {
      "cell_type": "code",
      "source": [
        "r2_score(y_test,result) # Power of features in predicting the target"
      ],
      "metadata": {
        "colab": {
          "base_uri": "https://localhost:8080/"
        },
        "id": "q6Qw6fl0U3ae",
        "outputId": "fe9f5b35-d522-4327-a663-ad33f3b0b0a0"
      },
      "execution_count": null,
      "outputs": [
        {
          "output_type": "execute_result",
          "data": {
            "text/plain": [
              "0.7836295385076315"
            ]
          },
          "metadata": {},
          "execution_count": 38
        }
      ]
    },
    {
      "cell_type": "code",
      "source": [
        ""
      ],
      "metadata": {
        "id": "NETfHMXxU7HM"
      },
      "execution_count": null,
      "outputs": []
    }
  ]
}